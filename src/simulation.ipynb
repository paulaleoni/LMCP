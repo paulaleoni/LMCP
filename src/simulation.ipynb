{
 "cells": [
  {
   "cell_type": "markdown",
   "metadata": {},
   "source": [
    "## Simulating Model\n",
    "\n",
    "# DGP\n",
    "$ y_{it} = \\alpha_i + \\delta_t + \\beta \\times Treatment_{it} + \\gamma \\times Post_{t} \\times Treatment_{it}+ \\epsilon_{it} $"
   ]
  },
  {
   "cell_type": "code",
   "execution_count": 210,
   "metadata": {},
   "outputs": [],
   "source": [
    "import numpy as np\n",
    "import pandas as pd\n",
    "import matplotlib.pyplot as plt\n",
    "import seaborn as sns\n",
    "from statsmodels.formula.api import ols\n",
    "from linearmodels import PanelOLS\n",
    "\n",
    "np.random.seed(123)"
   ]
  },
  {
   "cell_type": "code",
   "execution_count": 211,
   "metadata": {},
   "outputs": [],
   "source": [
    "T = 2\n",
    "N = 5000\n",
    "\n",
    "event_period = 2\n",
    "\n",
    "# generate N random alphas\n",
    "alpha = np.random.randn(N) # from a standard normal\n",
    "alphas = np.tile(alpha, T)\n",
    "\n",
    "# generate T random deltas\n",
    "delta = np.random.randn(T)\n",
    "\n",
    "# define a beta\n",
    "beta = 0.2\n",
    "gamma = 0.2\n",
    "\n",
    "# create treatment vector\n",
    "half = int(N/2)\n",
    "treatment_1 = np.ones(half)\n",
    "treatment_0 = np.zeros(half)\n",
    "treatment = np.append(treatment_0, treatment_1)\n",
    "np.random.shuffle(treatment)\n",
    "\n",
    "treatments = np.tile(treatment, T)\n",
    "\n",
    "# create individual id's\n",
    "ids = np.arange(1,N+1)\n",
    "ids = np.tile(ids, T)"
   ]
  },
  {
   "cell_type": "code",
   "execution_count": 212,
   "metadata": {},
   "outputs": [],
   "source": [
    "# create a dataframe\n",
    "df = pd.DataFrame({'id':ids,'alpha':alphas,'treatment':treatments})\n",
    "period = [[x] * N for x in range(1,T+1)]\n",
    "df['period'] = np.array(period).reshape(N*T)\n",
    "df['delta'] = df['period'].apply(lambda row: delta[row-1])\n",
    "df['post'] = df['period'].apply(lambda row: 1 if row >= event_period else 0)"
   ]
  },
  {
   "cell_type": "code",
   "execution_count": 227,
   "metadata": {},
   "outputs": [
    {
     "data": {
      "text/html": [
       "<div>\n",
       "<style scoped>\n",
       "    .dataframe tbody tr th:only-of-type {\n",
       "        vertical-align: middle;\n",
       "    }\n",
       "\n",
       "    .dataframe tbody tr th {\n",
       "        vertical-align: top;\n",
       "    }\n",
       "\n",
       "    .dataframe thead th {\n",
       "        text-align: right;\n",
       "    }\n",
       "</style>\n",
       "<table border=\"1\" class=\"dataframe\">\n",
       "  <thead>\n",
       "    <tr style=\"text-align: right;\">\n",
       "      <th></th>\n",
       "      <th></th>\n",
       "      <th>alpha</th>\n",
       "      <th>treatment</th>\n",
       "      <th>delta</th>\n",
       "      <th>post</th>\n",
       "      <th>epsilon</th>\n",
       "      <th>y</th>\n",
       "    </tr>\n",
       "    <tr>\n",
       "      <th>id</th>\n",
       "      <th>period</th>\n",
       "      <th></th>\n",
       "      <th></th>\n",
       "      <th></th>\n",
       "      <th></th>\n",
       "      <th></th>\n",
       "      <th></th>\n",
       "    </tr>\n",
       "  </thead>\n",
       "  <tbody>\n",
       "    <tr>\n",
       "      <th>1</th>\n",
       "      <th>1</th>\n",
       "      <td>-1.085631</td>\n",
       "      <td>0.0</td>\n",
       "      <td>0.318764</td>\n",
       "      <td>0</td>\n",
       "      <td>2.526856</td>\n",
       "      <td>1.759989</td>\n",
       "    </tr>\n",
       "    <tr>\n",
       "      <th>2</th>\n",
       "      <th>1</th>\n",
       "      <td>0.997345</td>\n",
       "      <td>0.0</td>\n",
       "      <td>0.318764</td>\n",
       "      <td>0</td>\n",
       "      <td>0.674023</td>\n",
       "      <td>1.990132</td>\n",
       "    </tr>\n",
       "    <tr>\n",
       "      <th>3</th>\n",
       "      <th>1</th>\n",
       "      <td>0.282978</td>\n",
       "      <td>0.0</td>\n",
       "      <td>0.318764</td>\n",
       "      <td>0</td>\n",
       "      <td>-0.494819</td>\n",
       "      <td>0.106923</td>\n",
       "    </tr>\n",
       "    <tr>\n",
       "      <th>4</th>\n",
       "      <th>1</th>\n",
       "      <td>-1.506295</td>\n",
       "      <td>1.0</td>\n",
       "      <td>0.318764</td>\n",
       "      <td>0</td>\n",
       "      <td>-0.081041</td>\n",
       "      <td>-1.068572</td>\n",
       "    </tr>\n",
       "    <tr>\n",
       "      <th>5</th>\n",
       "      <th>1</th>\n",
       "      <td>-0.578600</td>\n",
       "      <td>1.0</td>\n",
       "      <td>0.318764</td>\n",
       "      <td>0</td>\n",
       "      <td>0.633005</td>\n",
       "      <td>0.573168</td>\n",
       "    </tr>\n",
       "  </tbody>\n",
       "</table>\n",
       "</div>"
      ],
      "text/plain": [
       "              alpha  treatment     delta  post   epsilon         y\n",
       "id period                                                         \n",
       "1  1      -1.085631        0.0  0.318764     0  2.526856  1.759989\n",
       "2  1       0.997345        0.0  0.318764     0  0.674023  1.990132\n",
       "3  1       0.282978        0.0  0.318764     0 -0.494819  0.106923\n",
       "4  1      -1.506295        1.0  0.318764     0 -0.081041 -1.068572\n",
       "5  1      -0.578600        1.0  0.318764     0  0.633005  0.573168"
      ]
     },
     "execution_count": 227,
     "metadata": {},
     "output_type": "execute_result"
    }
   ],
   "source": [
    "# generate epsilon\n",
    "df['epsilon'] = 0 * df['alpha'] + 0 * df['treatment'] + np.random.randn(N *T)\n",
    "# calculate y : !!! I scale down the delta for a nicer graph\n",
    "df['y'] = df['alpha'] + df['delta'] + beta * df['treatment'] + gamma * df['treatment'] * df['post'] + df['epsilon']\n",
    "df.head() "
   ]
  },
  {
   "cell_type": "code",
   "execution_count": 214,
   "metadata": {},
   "outputs": [
    {
     "data": {
      "text/plain": [
       "treatment  period\n",
       "0.0        1         0.344916\n",
       "           2         1.534403\n",
       "1.0        1         0.579986\n",
       "           2         1.931796\n",
       "Name: y, dtype: float64"
      ]
     },
     "execution_count": 214,
     "metadata": {},
     "output_type": "execute_result"
    }
   ],
   "source": [
    "tab = df.groupby(['treatment','period'])['y'].mean()\n",
    "tab"
   ]
  },
  {
   "cell_type": "code",
   "execution_count": 215,
   "metadata": {},
   "outputs": [
    {
     "data": {
      "image/png": "[encoded data removed]",
      "text/plain": [
       "<Figure size 432x288 with 1 Axes>"
      ]
     },
     "metadata": {
      "needs_background": "light"
     },
     "output_type": "display_data"
    }
   ],
   "source": [
    "periods = [x for x in range(1,T+1)]\n",
    "\n",
    "fig, ax = plt.subplots()  \n",
    "plt.plot(periods,[tab[0][p] for p in periods], label = 'not treated')\n",
    "plt.plot(periods,[tab[1][p] for p in periods], label = 'treated')\n",
    "plt.xticks(periods)\n",
    "plt.axvline(event_period - .5, linestyle='dashed', color='black')\n",
    "plt.legend()\n",
    "plt.show()"
   ]
  },
  {
   "cell_type": "code",
   "execution_count": 216,
   "metadata": {},
   "outputs": [
    {
     "data": {
      "image/png": "[encoded data removed]",
      "text/plain": [
       "<Figure size 432x288 with 1 Axes>"
      ]
     },
     "metadata": {
      "needs_background": "light"
     },
     "output_type": "display_data"
    }
   ],
   "source": [
    "fig, ax = plt.subplots()\n",
    "sns.kdeplot(df[df.treatment == 1]['y'], ax = ax, label = 'treated')\n",
    "sns.kdeplot(df[df.treatment == 0]['y'], ax = ax, label = 'not treated')\n",
    "plt.legend()\n",
    "plt.show()"
   ]
  },
  {
   "cell_type": "code",
   "execution_count": 217,
   "metadata": {},
   "outputs": [
    {
     "data": {
      "text/html": [
       "<table class=\"simpletable\">\n",
       "<caption>OLS Regression Results</caption>\n",
       "<tr>\n",
       "  <th>Dep. Variable:</th>            <td>y</td>        <th>  R-squared:         </th> <td>   0.583</td> \n",
       "</tr>\n",
       "<tr>\n",
       "  <th>Model:</th>                   <td>OLS</td>       <th>  Adj. R-squared:    </th> <td>   0.583</td> \n",
       "</tr>\n",
       "<tr>\n",
       "  <th>Method:</th>             <td>Least Squares</td>  <th>  F-statistic:       </th> <td>   3496.</td> \n",
       "</tr>\n",
       "<tr>\n",
       "  <th>Date:</th>             <td>Tue, 29 Mar 2022</td> <th>  Prob (F-statistic):</th>  <td>  0.00</td>  \n",
       "</tr>\n",
       "<tr>\n",
       "  <th>Time:</th>                 <td>12:06:14</td>     <th>  Log-Likelihood:    </th> <td> -14298.</td> \n",
       "</tr>\n",
       "<tr>\n",
       "  <th>No. Observations:</th>      <td> 10000</td>      <th>  AIC:               </th> <td>2.861e+04</td>\n",
       "</tr>\n",
       "<tr>\n",
       "  <th>Df Residuals:</th>          <td>  9995</td>      <th>  BIC:               </th> <td>2.864e+04</td>\n",
       "</tr>\n",
       "<tr>\n",
       "  <th>Df Model:</th>              <td>     4</td>      <th>                     </th>     <td> </td>    \n",
       "</tr>\n",
       "<tr>\n",
       "  <th>Covariance Type:</th>      <td>nonrobust</td>    <th>                     </th>     <td> </td>    \n",
       "</tr>\n",
       "</table>\n",
       "<table class=\"simpletable\">\n",
       "<tr>\n",
       "         <td></td>           <th>coef</th>     <th>std err</th>      <th>t</th>      <th>P>|t|</th>  <th>[0.025</th>    <th>0.975]</th>  \n",
       "</tr>\n",
       "<tr>\n",
       "  <th>Intercept</th>      <td>    0.1374</td> <td>    0.023</td> <td>    6.065</td> <td> 0.000</td> <td>    0.093</td> <td>    0.182</td>\n",
       "</tr>\n",
       "<tr>\n",
       "  <th>alpha</th>          <td>    1.0122</td> <td>    0.010</td> <td>   98.881</td> <td> 0.000</td> <td>    0.992</td> <td>    1.032</td>\n",
       "</tr>\n",
       "<tr>\n",
       "  <th>delta</th>          <td>    0.6037</td> <td>    0.012</td> <td>   50.965</td> <td> 0.000</td> <td>    0.581</td> <td>    0.627</td>\n",
       "</tr>\n",
       "<tr>\n",
       "  <th>treatment</th>      <td>    0.2224</td> <td>    0.029</td> <td>    7.777</td> <td> 0.000</td> <td>    0.166</td> <td>    0.278</td>\n",
       "</tr>\n",
       "<tr>\n",
       "  <th>post</th>           <td>    0.4696</td> <td>    0.015</td> <td>   31.736</td> <td> 0.000</td> <td>    0.441</td> <td>    0.499</td>\n",
       "</tr>\n",
       "<tr>\n",
       "  <th>treatment:post</th> <td>    0.1623</td> <td>    0.040</td> <td>    4.013</td> <td> 0.000</td> <td>    0.083</td> <td>    0.242</td>\n",
       "</tr>\n",
       "</table>\n",
       "<table class=\"simpletable\">\n",
       "<tr>\n",
       "  <th>Omnibus:</th>       <td> 7.921</td> <th>  Durbin-Watson:     </th> <td>   1.987</td>\n",
       "</tr>\n",
       "<tr>\n",
       "  <th>Prob(Omnibus):</th> <td> 0.019</td> <th>  Jarque-Bera (JB):  </th> <td>   7.488</td>\n",
       "</tr>\n",
       "<tr>\n",
       "  <th>Skew:</th>          <td> 0.039</td> <th>  Prob(JB):          </th> <td>  0.0237</td>\n",
       "</tr>\n",
       "<tr>\n",
       "  <th>Kurtosis:</th>      <td> 2.891</td> <th>  Cond. No.          </th> <td>1.98e+15</td>\n",
       "</tr>\n",
       "</table><br/><br/>Notes:<br/>[1] Standard Errors assume that the covariance matrix of the errors is correctly specified.<br/>[2] The smallest eigenvalue is 7.16e-27. This might indicate that there are<br/>strong multicollinearity problems or that the design matrix is singular."
      ],
      "text/plain": [
       "<class 'statsmodels.iolib.summary.Summary'>\n",
       "\"\"\"\n",
       "                            OLS Regression Results                            \n",
       "==============================================================================\n",
       "Dep. Variable:                      y   R-squared:                       0.583\n",
       "Model:                            OLS   Adj. R-squared:                  0.583\n",
       "Method:                 Least Squares   F-statistic:                     3496.\n",
       "Date:                Tue, 29 Mar 2022   Prob (F-statistic):               0.00\n",
       "Time:                        12:06:14   Log-Likelihood:                -14298.\n",
       "No. Observations:               10000   AIC:                         2.861e+04\n",
       "Df Residuals:                    9995   BIC:                         2.864e+04\n",
       "Df Model:                           4                                         \n",
       "Covariance Type:            nonrobust                                         \n",
       "==================================================================================\n",
       "                     coef    std err          t      P>|t|      [0.025      0.975]\n",
       "----------------------------------------------------------------------------------\n",
       "Intercept          0.1374      0.023      6.065      0.000       0.093       0.182\n",
       "alpha              1.0122      0.010     98.881      0.000       0.992       1.032\n",
       "delta              0.6037      0.012     50.965      0.000       0.581       0.627\n",
       "treatment          0.2224      0.029      7.777      0.000       0.166       0.278\n",
       "post               0.4696      0.015     31.736      0.000       0.441       0.499\n",
       "treatment:post     0.1623      0.040      4.013      0.000       0.083       0.242\n",
       "==============================================================================\n",
       "Omnibus:                        7.921   Durbin-Watson:                   1.987\n",
       "Prob(Omnibus):                  0.019   Jarque-Bera (JB):                7.488\n",
       "Skew:                           0.039   Prob(JB):                       0.0237\n",
       "Kurtosis:                       2.891   Cond. No.                     1.98e+15\n",
       "==============================================================================\n",
       "\n",
       "Notes:\n",
       "[1] Standard Errors assume that the covariance matrix of the errors is correctly specified.\n",
       "[2] The smallest eigenvalue is 7.16e-27. This might indicate that there are\n",
       "strong multicollinearity problems or that the design matrix is singular.\n",
       "\"\"\""
      ]
     },
     "execution_count": 217,
     "metadata": {},
     "output_type": "execute_result"
    }
   ],
   "source": [
    "# simple ols regression\n",
    "\n",
    "model = ols(formula='y ~ alpha + delta + treatment + treatment * post', data = df)\n",
    "fit = model.fit()\n",
    "fit.summary()"
   ]
  },
  {
   "cell_type": "code",
   "execution_count": 218,
   "metadata": {},
   "outputs": [],
   "source": [
    "# need mulitindexed dataframe\n",
    "df = df.set_index(['id','period'])"
   ]
  },
  {
   "cell_type": "code",
   "execution_count": 226,
   "metadata": {},
   "outputs": [
    {
     "data": {
      "text/html": [
       "<table class=\"simpletable\">\n",
       "<caption>PanelOLS Estimation Summary</caption>\n",
       "<tr>\n",
       "  <th>Dep. Variable:</th>            <td>y</td>        <th>  R-squared:         </th>    <td>0.5832</td>  \n",
       "</tr>\n",
       "<tr>\n",
       "  <th>Estimator:</th>            <td>PanelOLS</td>     <th>  R-squared (Between):</th>   <td>0.6585</td>  \n",
       "</tr>\n",
       "<tr>\n",
       "  <th>No. Observations:</th>       <td>10000</td>      <th>  R-squared (Within):</th>    <td>0.4524</td>  \n",
       "</tr>\n",
       "<tr>\n",
       "  <th>Date:</th>             <td>Tue, Mar 29 2022</td> <th>  R-squared (Overall):</th>   <td>0.5832</td>  \n",
       "</tr>\n",
       "<tr>\n",
       "  <th>Time:</th>                 <td>12:13:15</td>     <th>  Log-likelihood     </th>   <td>-1.43e+04</td>\n",
       "</tr>\n",
       "<tr>\n",
       "  <th>Cov. Estimator:</th>      <td>Unadjusted</td>    <th>                     </th>       <td></td>     \n",
       "</tr>\n",
       "<tr>\n",
       "  <th></th>                          <td></td>         <th>  F-statistic:       </th>    <td>3496.5</td>  \n",
       "</tr>\n",
       "<tr>\n",
       "  <th>Entities:</th>               <td>5000</td>       <th>  P-value            </th>    <td>0.0000</td>  \n",
       "</tr>\n",
       "<tr>\n",
       "  <th>Avg Obs:</th>               <td>2.0000</td>      <th>  Distribution:      </th>   <td>F(4,9995)</td>\n",
       "</tr>\n",
       "<tr>\n",
       "  <th>Min Obs:</th>               <td>2.0000</td>      <th>                     </th>       <td></td>     \n",
       "</tr>\n",
       "<tr>\n",
       "  <th>Max Obs:</th>               <td>2.0000</td>      <th>  F-statistic (robust):</th>  <td>4161.9</td>  \n",
       "</tr>\n",
       "<tr>\n",
       "  <th></th>                          <td></td>         <th>  P-value            </th>    <td>0.0000</td>  \n",
       "</tr>\n",
       "<tr>\n",
       "  <th>Time periods:</th>             <td>2</td>        <th>  Distribution:      </th>   <td>F(4,9995)</td>\n",
       "</tr>\n",
       "<tr>\n",
       "  <th>Avg Obs:</th>               <td>5000.0</td>      <th>                     </th>       <td></td>     \n",
       "</tr>\n",
       "<tr>\n",
       "  <th>Min Obs:</th>               <td>5000.0</td>      <th>                     </th>       <td></td>     \n",
       "</tr>\n",
       "<tr>\n",
       "  <th>Max Obs:</th>               <td>5000.0</td>      <th>                     </th>       <td></td>     \n",
       "</tr>\n",
       "<tr>\n",
       "  <th></th>                          <td></td>         <th>                     </th>       <td></td>     \n",
       "</tr>\n",
       "</table>\n",
       "<table class=\"simpletable\">\n",
       "<caption>Parameter Estimates</caption>\n",
       "<tr>\n",
       "         <td></td>        <th>Parameter</th> <th>Std. Err.</th> <th>T-stat</th>  <th>P-value</th> <th>Lower CI</th> <th>Upper CI</th>\n",
       "</tr>\n",
       "<tr>\n",
       "  <th>alpha</th>           <td>1.0122</td>    <td>0.0102</td>   <td>98.881</td>  <td>0.0000</td>   <td>0.9922</td>   <td>1.0323</td> \n",
       "</tr>\n",
       "<tr>\n",
       "  <th>delta</th>           <td>1.0349</td>    <td>0.0634</td>   <td>16.312</td>  <td>0.0000</td>   <td>0.9106</td>   <td>1.1593</td> \n",
       "</tr>\n",
       "<tr>\n",
       "  <th>treatment</th>       <td>0.2224</td>    <td>0.0286</td>   <td>7.7771</td>  <td>0.0000</td>   <td>0.1664</td>   <td>0.2785</td> \n",
       "</tr>\n",
       "<tr>\n",
       "  <th>post</th>            <td>-0.0445</td>   <td>0.0980</td>   <td>-0.4542</td> <td>0.6497</td>   <td>-0.2366</td>  <td>0.1476</td> \n",
       "</tr>\n",
       "<tr>\n",
       "  <th>treatment:post</th>  <td>0.1623</td>    <td>0.0404</td>   <td>4.0133</td>  <td>0.0001</td>   <td>0.0830</td>   <td>0.2416</td> \n",
       "</tr>\n",
       "</table><br/><br/><br/>id: 0x1fb8a34f6d0"
      ],
      "text/plain": [
       "                          PanelOLS Estimation Summary                           \n",
       "================================================================================\n",
       "Dep. Variable:                      y   R-squared:                        0.5832\n",
       "Estimator:                   PanelOLS   R-squared (Between):              0.6585\n",
       "No. Observations:               10000   R-squared (Within):               0.4524\n",
       "Date:                Tue, Mar 29 2022   R-squared (Overall):              0.5832\n",
       "Time:                        12:13:15   Log-likelihood                 -1.43e+04\n",
       "Cov. Estimator:            Unadjusted                                           \n",
       "                                        F-statistic:                      3496.5\n",
       "Entities:                        5000   P-value                           0.0000\n",
       "Avg Obs:                       2.0000   Distribution:                  F(4,9995)\n",
       "Min Obs:                       2.0000                                           \n",
       "Max Obs:                       2.0000   F-statistic (robust):             4161.9\n",
       "                                        P-value                           0.0000\n",
       "Time periods:                       2   Distribution:                  F(4,9995)\n",
       "Avg Obs:                       5000.0                                           \n",
       "Min Obs:                       5000.0                                           \n",
       "Max Obs:                       5000.0                                           \n",
       "                                                                                \n",
       "                               Parameter Estimates                                \n",
       "==================================================================================\n",
       "                Parameter  Std. Err.     T-stat    P-value    Lower CI    Upper CI\n",
       "----------------------------------------------------------------------------------\n",
       "alpha              1.0122     0.0102     98.881     0.0000      0.9922      1.0323\n",
       "delta              1.0349     0.0634     16.312     0.0000      0.9106      1.1593\n",
       "treatment          0.2224     0.0286     7.7771     0.0000      0.1664      0.2785\n",
       "post              -0.0445     0.0980    -0.4542     0.6497     -0.2366      0.1476\n",
       "treatment:post     0.1623     0.0404     4.0133     0.0001      0.0830      0.2416\n",
       "==================================================================================\n",
       "\n",
       "\n",
       "PanelEffectsResults, id: 0x1fb8a34f6d0"
      ]
     },
     "execution_count": 226,
     "metadata": {},
     "output_type": "execute_result"
    }
   ],
   "source": [
    "# Panel Ols regression\n",
    "mod = PanelOLS.from_formula('y  ~ alpha + delta + treatment + treatment * post', data = df,drop_absorbed=True)\n",
    "# for later: \n",
    "# + EntityEffects + TimeEffects in formula for time and individual FE\n",
    "res = mod.fit()\n",
    "res"
   ]
  },
  {
   "cell_type": "code",
   "execution_count": null,
   "metadata": {},
   "outputs": [],
   "source": []
  }
 ],
 "metadata": {
  "interpreter": {
   "hash": "040b6b7424890428da55a9604c684e978adcaaab3e69ffa50af46e868eea8aa1"
  },
  "kernelspec": {
   "display_name": "Python 3.8.11 ('lmcp')",
   "language": "python",
   "name": "python3"
  },
  "language_info": {
   "codemirror_mode": {
    "name": "ipython",
    "version": 3
   },
   "file_extension": ".py",
   "mimetype": "text/x-python",
   "name": "python",
   "nbconvert_exporter": "python",
   "pygments_lexer": "ipython3",
   "version": "3.8.11"
  },
  "orig_nbformat": 4
 },
 "nbformat": 4,
 "nbformat_minor": 2
}
